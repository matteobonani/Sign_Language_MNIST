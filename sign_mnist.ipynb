{
 "cells": [
  {
   "attachments": {},
   "cell_type": "markdown",
   "metadata": {},
   "source": [
    "First we upload the two dataset of the sign mnist\n"
   ]
  },
  {
   "cell_type": "code",
   "execution_count": 24,
   "metadata": {},
   "outputs": [
    {
     "name": "stdout",
     "output_type": "stream",
     "text": [
      "<class 'pandas.core.frame.DataFrame'>\n",
      "RangeIndex: 27455 entries, 0 to 27454\n",
      "Columns: 785 entries, label to pixel784\n",
      "dtypes: int64(785)\n",
      "memory usage: 164.4 MB\n",
      "Number of classes:24\n",
      "Class distribution:\n",
      " 0     1126\n",
      "1     1010\n",
      "2     1144\n",
      "3     1196\n",
      "4      957\n",
      "5     1204\n",
      "6     1090\n",
      "7     1013\n",
      "8     1162\n",
      "10    1114\n",
      "11    1241\n",
      "12    1055\n",
      "13    1151\n",
      "14    1196\n",
      "15    1088\n",
      "16    1279\n",
      "17    1294\n",
      "18    1199\n",
      "19    1186\n",
      "20    1161\n",
      "21    1082\n",
      "22    1225\n",
      "23    1164\n",
      "24    1118\n",
      "Name: label, dtype: int64\n",
      "Skew:-0.43129847690785494 and 0.0732183141355446\n"
     ]
    },
    {
     "data": {
      "text/plain": [
       "label      -0.095249\n",
       "pixel1     -0.558068\n",
       "pixel2     -0.577706\n",
       "pixel3     -0.645864\n",
       "pixel4     -0.772380\n",
       "              ...   \n",
       "pixel780   -0.916529\n",
       "pixel781   -0.954015\n",
       "pixel782   -0.947602\n",
       "pixel783   -0.952318\n",
       "pixel784   -0.930335\n",
       "Length: 785, dtype: float64"
      ]
     },
     "execution_count": 24,
     "metadata": {},
     "output_type": "execute_result"
    }
   ],
   "source": [
    "import pandas as pd\n",
    "from scipy.stats import skew\n",
    "\n",
    "\n",
    "# Load the dataset\n",
    "df = pd.read_csv('sign_mnist_train.csv')\n",
    "\n",
    "df.info()\n",
    "\n",
    "# Count the number of images per class\n",
    "class_counts = df['label'].value_counts().sort_index()\n",
    "\n",
    "# Compute the skew\n",
    "\n",
    "skew2 = 3*(class_counts.mean() - class_counts.median()) / class_counts.std()\n",
    "skew = class_counts.std() / class_counts.mean()\n",
    "print(f\"Number of classes:{len(class_counts)}\")\n",
    "print(f\"Class distribution:\\n {class_counts}\")\n",
    "print(f\"Skew:{skew2} and {skew}\")\n",
    "df.skew()\n",
    "\n",
    "# 3 * (mean–median) / standard deviation = skew"
   ]
  },
  {
   "cell_type": "code",
   "execution_count": 22,
   "metadata": {},
   "outputs": [
    {
     "data": {
      "image/png": "[encoded data removed]",
      "text/plain": [
       "<Figure size 640x480 with 1 Axes>"
      ]
     },
     "metadata": {},
     "output_type": "display_data"
    }
   ],
   "source": [
    "import matplotlib.pyplot as plt\n",
    "import numpy as np\n",
    "\n",
    "def show_image(dataset, index):\n",
    "    image = dataset.iloc[index, 1:].values.reshape(28, 28)\n",
    "    label = dataset.iloc[index, 0]\n",
    "\n",
    "    plt.imshow(image, cmap='gray')\n",
    "    plt.title(f\"Label: {label}\")\n",
    "    plt.axis('off')\n",
    "    plt.show()\n",
    "\n",
    "# Usage example:\n",
    "show_image(df, 6)"
   ]
  }
 ],
 "metadata": {
  "kernelspec": {
   "display_name": "Python 3",
   "language": "python",
   "name": "python3"
  },
  "language_info": {
   "name": "python",
   "version": "3.10.6"
  },
  "orig_nbformat": 4
 },
 "nbformat": 4,
 "nbformat_minor": 2
}
